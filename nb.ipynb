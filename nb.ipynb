{
 "cells": [
  {
   "cell_type": "code",
   "execution_count": 63,
   "metadata": {},
   "outputs": [],
   "source": [
    "from PySide6.QtCore import Qt, QSize\n",
    "from PySide6.QtGui import QAction, QIcon\n",
    "from PySide6.QtWidgets import QApplication, QMainWindow, QPushButton, QSlider, QWidget, QHBoxLayout, QVBoxLayout, QMainWindow, QToolBar, QPushButton, QStatusBar\n",
    "\n",
    "\n",
    "import sys\n"
   ]
  },
  {
   "cell_type": "markdown",
   "metadata": {},
   "source": [
    "### QT Inherit - Classes"
   ]
  },
  {
   "cell_type": "code",
   "execution_count": 2,
   "metadata": {},
   "outputs": [],
   "source": [
    "class ButtonHolder(QMainWindow): # inherit from QMainWindow\n",
    "    def __init__(self):\n",
    "        super().__init__()\n",
    "        self.setWindowTitle(\"Window title!\")\n",
    "        button = QPushButton(\"button text\")\n",
    "\n",
    "        self.setCentralWidget(button)"
   ]
  },
  {
   "cell_type": "markdown",
   "metadata": {},
   "source": [
    "### Simple display button"
   ]
  },
  {
   "cell_type": "code",
   "execution_count": 5,
   "metadata": {},
   "outputs": [
    {
     "data": {
      "text/plain": [
       "0"
      ]
     },
     "execution_count": 5,
     "metadata": {},
     "output_type": "execute_result"
    }
   ],
   "source": [
    "\n",
    "# this only happens on jupyter!\n",
    "app = None \n",
    "if not QApplication.instance():\n",
    "    app = QApplication(sys.argv)\n",
    "else:\n",
    "    app = QApplication.instance()\n",
    "\n",
    "window = ButtonHolder()\n",
    "window.show()\n",
    "app.exec()"
   ]
  },
  {
   "cell_type": "markdown",
   "metadata": {},
   "source": [
    "### Signals and Slots"
   ]
  },
  {
   "cell_type": "code",
   "execution_count": 9,
   "metadata": {},
   "outputs": [
    {
     "name": "stdout",
     "output_type": "stream",
     "text": [
      "Button clicked!\n",
      "Button clicked!\n",
      "Button clicked!\n",
      "Button clicked!\n"
     ]
    },
    {
     "data": {
      "text/plain": [
       "0"
      ]
     },
     "execution_count": 9,
     "metadata": {},
     "output_type": "execute_result"
    }
   ],
   "source": [
    "def button_clicked():\n",
    "    print(\"Button clicked!\")\n",
    "\n",
    "# this only happens on jupyter!\n",
    "app = None \n",
    "if not QApplication.instance():\n",
    "    app = QApplication(sys.argv)\n",
    "else:\n",
    "    app = QApplication.instance()\n",
    "\n",
    "button = QPushButton(\"Button\")\n",
    "button.clicked.connect(button_clicked)\n",
    "\n",
    "button.show()\n",
    "app.exec()\n"
   ]
  },
  {
   "cell_type": "code",
   "execution_count": 10,
   "metadata": {},
   "outputs": [
    {
     "name": "stdout",
     "output_type": "stream",
     "text": [
      "here is your data: True\n",
      "here is your data: False\n",
      "here is your data: True\n",
      "here is your data: False\n",
      "here is your data: True\n",
      "here is your data: False\n",
      "here is your data: True\n"
     ]
    },
    {
     "data": {
      "text/plain": [
       "0"
      ]
     },
     "execution_count": 10,
     "metadata": {},
     "output_type": "execute_result"
    }
   ],
   "source": [
    "def button_clicked(data):\n",
    "    print(f'here is your data: {data}')\n",
    "\n",
    " \n",
    "# this only happens on jupyter!\n",
    "app = None \n",
    "if not QApplication.instance():\n",
    "    app = QApplication(sys.argv)\n",
    "else:\n",
    "    app = QApplication.instance()\n",
    "\n",
    "button = QPushButton(\"Button\")\n",
    "button.setCheckable(True)   # makes the button checkable, its unchecked by default.\n",
    "                            # clicks toggle state\n",
    "\n",
    "button.clicked.connect(button_clicked)\n",
    "\n",
    "button.show()\n",
    "app.exec()"
   ]
  },
  {
   "cell_type": "code",
   "execution_count": 14,
   "metadata": {},
   "outputs": [
    {
     "name": "stdout",
     "output_type": "stream",
     "text": [
      "here is your data: 52\n"
     ]
    },
    {
     "data": {
      "text/plain": [
       "0"
      ]
     },
     "execution_count": 14,
     "metadata": {},
     "output_type": "execute_result"
    }
   ],
   "source": [
    "def respond_to_slider(data):\n",
    "    print(f'here is your data: {data}')\n",
    "\n",
    "app = None \n",
    "if not QApplication.instance():\n",
    "    app = QApplication(sys.argv)\n",
    "else:\n",
    "    app = QApplication.instance()\n",
    "\n",
    "slider = QSlider(Qt.Vertical) # can also be \"Horizontal\"\n",
    "slider.setMinimum(1)\n",
    "slider.setMaximum(100)\n",
    "slider.setValue(50)\n",
    "\n",
    "slider.valueChanged.connect(respond_to_slider)\n",
    "slider.show()\n",
    "app.exec()"
   ]
  },
  {
   "cell_type": "markdown",
   "metadata": {},
   "source": [
    "### Widgets"
   ]
  },
  {
   "cell_type": "code",
   "execution_count": 22,
   "metadata": {},
   "outputs": [],
   "source": [
    "class RockWidget(QWidget):\n",
    "    def __init__(self):\n",
    "        super().__init__()\n",
    "        self.setWindowTitle(\"RockWidget\")\n",
    "        button1 = QPushButton(\"button1\")\n",
    "        button2 = QPushButton(\"button2\")\n",
    "\n",
    "        # button_layout = QHBoxLayout()\n",
    "        button_layout = QVBoxLayout()\n",
    "\n",
    "        button_layout.addWidget(button1)\n",
    "        button_layout.addWidget(button2)\n",
    "\n",
    "        self.setLayout(button_layout)\n",
    "        \n"
   ]
  },
  {
   "cell_type": "code",
   "execution_count": 23,
   "metadata": {},
   "outputs": [
    {
     "data": {
      "text/plain": [
       "0"
      ]
     },
     "execution_count": 23,
     "metadata": {},
     "output_type": "execute_result"
    }
   ],
   "source": [
    "app = None \n",
    "if not QApplication.instance():\n",
    "    app = QApplication(sys.argv)\n",
    "else:\n",
    "    app = QApplication.instance()\n",
    "\n",
    "window = RockWidget()\n",
    "window.show()\n",
    "\n",
    "app.exec()"
   ]
  },
  {
   "cell_type": "markdown",
   "metadata": {},
   "source": [
    "### QMainWindow\n"
   ]
  },
  {
   "cell_type": "code",
   "execution_count": 68,
   "metadata": {},
   "outputs": [],
   "source": [
    "class MainWindow(QMainWindow):\n",
    "    def __init__(self, app):\n",
    "        super().__init__()\n",
    "        self.app = app\n",
    "        self.setWindowTitle(\"testing Main Window\")\n",
    "\n",
    "        menu_bar = self.menuBar()\n",
    "        file_menu = menu_bar.addMenu(\"&File\")\n",
    "        quit_action = file_menu.addAction(\"Quit\")\n",
    "        quit_action.triggered.connect(self.quit_app)\n",
    "\n",
    "        edit_menu = menu_bar.addMenu(\"Edit\")\n",
    "        edit_menu.addAction(\"Copy\")\n",
    "        edit_menu.addAction(\"Cut\")\n",
    "        edit_menu.addAction(\"Paste\")\n",
    "        edit_menu.addAction(\"Undo\")\n",
    "        edit_menu.addAction(\"Redo\")\n",
    "\n",
    "        window_menu = menu_bar.addMenu(\"Window\")\n",
    "        settings_menu = menu_bar.addMenu(\"Settings\")\n",
    "        help_menu = menu_bar.addMenu(\"Help\")\n",
    "\n",
    "        toolbar = QToolBar(\"Main toolbar\")\n",
    "        toolbar.setIconSize(QSize(16, 16))\n",
    "        self.addToolBar(toolbar)\n",
    "\n",
    "        # reuse action\n",
    "        toolbar.addAction(quit_action)\n",
    "\n",
    "        action1 = QAction(\"Some action\", self)\n",
    "        action1.setStatusTip(\"Status message for some action\")\n",
    "        action1.triggered.connect(self.toolbar_button_click)\n",
    "        toolbar.addAction(action1)\n",
    "\n",
    "        action2 = QAction(QIcon(\"start.png\"), \"More actions!\", self)\n",
    "        action2.setStatusTip(\"Status message for some other action\")\n",
    "        action2.triggered.connect(self.toolbar_button_click)\n",
    "        # action2.setCheckable(True) # useful when setting a checable state\n",
    "        toolbar.addAction(action2)\n",
    "\n",
    "        toolbar.addSeparator()\n",
    "        toolbar.addWidget(QPushButton(\"Click here!\"))\n",
    "\n",
    "        # working with status bar objects\n",
    "        self.setStatusBar(QStatusBar())\n",
    "\n",
    "        button1 = QPushButton(\"button1!!!\")\n",
    "        button1.clicked.connect(self.toolbar_button_click)\n",
    "        self.setCentralWidget(button1)\n",
    "        \n",
    "\n",
    "\n",
    "    def quit_app(self):\n",
    "        self.app.quit()\n",
    "\n",
    "    def toolbar_button_click(self):\n",
    "        self.statusBar().showMessage(\"Message From my App\")\n",
    "    "
   ]
  },
  {
   "cell_type": "code",
   "execution_count": 69,
   "metadata": {},
   "outputs": [
    {
     "data": {
      "text/plain": [
       "0"
      ]
     },
     "execution_count": 69,
     "metadata": {},
     "output_type": "execute_result"
    }
   ],
   "source": [
    "app = None \n",
    "if not QApplication.instance():\n",
    "    app = QApplication(sys.argv)\n",
    "else:\n",
    "    app = QApplication.instance()\n",
    "\n",
    "window = MainWindow(app)\n",
    "window.show()\n",
    "\n",
    "app.exec()"
   ]
  }
 ],
 "metadata": {
  "kernelspec": {
   "display_name": "Python 3",
   "language": "python",
   "name": "python3"
  },
  "language_info": {
   "codemirror_mode": {
    "name": "ipython",
    "version": 3
   },
   "file_extension": ".py",
   "mimetype": "text/x-python",
   "name": "python",
   "nbconvert_exporter": "python",
   "pygments_lexer": "ipython3",
   "version": "3.12.0"
  }
 },
 "nbformat": 4,
 "nbformat_minor": 2
}
