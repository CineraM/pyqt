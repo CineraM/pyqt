{
 "cells": [
  {
   "cell_type": "code",
   "execution_count": null,
   "metadata": {},
   "outputs": [],
   "source": [
    "from PySide6.QtWidgets import QApplication, QMainWindow, QPushButton\n",
    "import sys\n"
   ]
  },
  {
   "cell_type": "code",
   "execution_count": null,
   "metadata": {},
   "outputs": [],
   "source": []
  },
  {
   "cell_type": "code",
   "execution_count": null,
   "metadata": {},
   "outputs": [],
   "source": [
    "from button_holder import ButtonHolder\n",
    "\n",
    "app = QApplication(sys.argv)\n",
    "\n",
    "window = ButtonHolder()\n",
    "window.show()\n",
    "app.exec()\n"
   ]
  }
 ],
 "metadata": {
  "language_info": {
   "name": "python"
  }
 },
 "nbformat": 4,
 "nbformat_minor": 2
}
